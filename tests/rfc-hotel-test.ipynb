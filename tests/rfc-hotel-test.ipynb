{
 "cells": [
  {
   "cell_type": "code",
   "execution_count": 1,
   "metadata": {},
   "outputs": [],
   "source": [
    "# This is a 'test' version of the Thinkful predictive hotel notebook, a version that I \n",
    "# can use periodically to refresh the skills introduced. "
   ]
  },
  {
   "cell_type": "code",
   "execution_count": 1,
   "metadata": {},
   "outputs": [],
   "source": [
    "# All the importants I need, plus the data. \n",
    "\n",
    "import pandas as pd \n",
    "import numpy as np\n",
    "import matplotlib.pyplot as plt \n",
    "import scipy \n",
    "import sklearn\n",
    "from sklearn.feature_extraction.text import CountVectorizer\n",
    "from sklearn.ensemble import RandomForestClassifier\n",
    "import seaborn as sns\n",
    "import re \n",
    "from collections import Counter \n",
    "%matplotlib inline\n",
    "\n",
    "data = pd.read_csv('https://github.com/Thinkful-Ed/data-201-resources/raw/master/hotel-reviews.csv')"
   ]
  },
  {
   "cell_type": "code",
   "execution_count": null,
   "metadata": {},
   "outputs": [],
   "source": []
  },
  {
   "cell_type": "code",
   "execution_count": 28,
   "metadata": {},
   "outputs": [],
   "source": [
    "# STEP ONE: The data in this df are messy. \n",
    "# a) Take the data['reviews.text'] data and make sure everything is lowercased. \n",
    "# b) use .str.replace to make sure that there are no characters like [] or ().\n",
    "#    HINT: the string passed into 'replace' will need to be raw. \n",
    "# c) Use .fillna() to make sure any NaNs are replaced with empty strings. \n",
    "\n"
   ]
  },
  {
   "cell_type": "code",
   "execution_count": 29,
   "metadata": {},
   "outputs": [],
   "source": [
    "# STEP TWO: Instantiate the CountVectorizer with max_features = 5000 in a variable called \n",
    "# 'vectorizer'. "
   ]
  },
  {
   "cell_type": "code",
   "execution_count": 30,
   "metadata": {},
   "outputs": [],
   "source": [
    "# STEP THREE: Make a variable X from data['reviews.text'] by calling vectorizer's .fit_transform()\n",
    "# method on it. Then make X.toarray() into a df called bag_of_words. The columns should \n",
    "# be the feature_names from vectorizer.\n",
    "# HINT: Fetching the feature names requires a method, they're not attributes. "
   ]
  },
  {
   "cell_type": "code",
   "execution_count": 31,
   "metadata": {},
   "outputs": [],
   "source": [
    "# STEP FOUR: take the original data df and do the following column renaming: 'address' -> \n",
    "# 'hotel_address', city' -> 'hotel_city', 'country' -> 'hotel_country', '\n",
    "# name' -> 'hotel_name'. Pandas has a rename method whose argument 'columns' \n",
    "# can be passed a dictionary to do all of this. \n",
    "# HINT: Don't forget the 'inplace' argument. "
   ]
  },
  {
   "cell_type": "code",
   "execution_count": 32,
   "metadata": {},
   "outputs": [],
   "source": [
    "# STEP FIVE: Now we need our variables. Make 'X' equal to bag_of_words and make 'y' equal to \n",
    "# data[hotel_name]\n"
   ]
  },
  {
   "cell_type": "code",
   "execution_count": 33,
   "metadata": {},
   "outputs": [],
   "source": [
    "# STEP SIX: Instantiate a RandomForestClassifier called 'rfc', then use it to fit both\n",
    "# X and y."
   ]
  },
  {
   "cell_type": "code",
   "execution_count": 34,
   "metadata": {},
   "outputs": [],
   "source": [
    "# STEP SEVEN: \n",
    "# a) Make a test review sentence of our own. \n",
    "# b) use vectorizer to transform it and make it into an array (in the same step). Put this \n",
    "#    in the variable \"X_test\", which won't conflict with other variable names because \n",
    "#    we haven't done a train test split. \n",
    "# c) use rfc.predict to populate a variable 'prediction' with the model's predicted hotel \n",
    "#    HINT: (don't forget to index to the first value returned by the predict method, \n",
    "#          because it returns a tuple and we only need the first string. "
   ]
  },
  {
   "cell_type": "code",
   "execution_count": 35,
   "metadata": {},
   "outputs": [],
   "source": [
    "# STEP EIGHT: Get out the relevant information from data. This involves masking 'data' to grab \n",
    "# the name that matches prediction, then using a list of a list to INDEX into this mask to \n",
    "# get just the hotel_name, hotel_address, hotel_city, and hotel_country, then using .head(1)\n",
    "# to grab the first match. \n",
    "# HINT: the general form: data[mask][list inside this list].head(some number)"
   ]
  },
  {
   "cell_type": "code",
   "execution_count": null,
   "metadata": {},
   "outputs": [],
   "source": []
  }
 ],
 "metadata": {
  "kernelspec": {
   "display_name": "Python 3",
   "language": "python",
   "name": "python3"
  },
  "language_info": {
   "codemirror_mode": {
    "name": "ipython",
    "version": 3
   },
   "file_extension": ".py",
   "mimetype": "text/x-python",
   "name": "python",
   "nbconvert_exporter": "python",
   "pygments_lexer": "ipython3",
   "version": "3.6.6"
  }
 },
 "nbformat": 4,
 "nbformat_minor": 2
}
